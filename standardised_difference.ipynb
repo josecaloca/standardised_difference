{
 "cells": [
  {
   "cell_type": "markdown",
   "metadata": {},
   "source": [
    "# Load packages"
   ]
  },
  {
   "cell_type": "code",
   "execution_count": 1,
   "metadata": {},
   "outputs": [],
   "source": [
    "import numpy as np\n",
    "import pandas as pd\n",
    "from functions.standardised_difference import standardised_difference_function\n",
    "np.random.seed(42)"
   ]
  },
  {
   "cell_type": "markdown",
   "metadata": {},
   "source": [
    "# Load Data"
   ]
  },
  {
   "cell_type": "code",
   "execution_count": 2,
   "metadata": {},
   "outputs": [
    {
     "data": {
      "text/html": [
       "<div>\n",
       "<style scoped>\n",
       "    .dataframe tbody tr th:only-of-type {\n",
       "        vertical-align: middle;\n",
       "    }\n",
       "\n",
       "    .dataframe tbody tr th {\n",
       "        vertical-align: top;\n",
       "    }\n",
       "\n",
       "    .dataframe thead th {\n",
       "        text-align: right;\n",
       "    }\n",
       "</style>\n",
       "<table border=\"1\" class=\"dataframe\">\n",
       "  <thead>\n",
       "    <tr style=\"text-align: right;\">\n",
       "      <th></th>\n",
       "      <th>SepalLengthCm</th>\n",
       "      <th>SepalWidthCm</th>\n",
       "      <th>PetalLengthCm</th>\n",
       "      <th>PetalWidthCm</th>\n",
       "      <th>Species</th>\n",
       "      <th>group_var</th>\n",
       "    </tr>\n",
       "  </thead>\n",
       "  <tbody>\n",
       "    <tr>\n",
       "      <th>0</th>\n",
       "      <td>5.1</td>\n",
       "      <td>3.5</td>\n",
       "      <td>1.4</td>\n",
       "      <td>0.2</td>\n",
       "      <td>Iris-setosa</td>\n",
       "      <td>0</td>\n",
       "    </tr>\n",
       "    <tr>\n",
       "      <th>1</th>\n",
       "      <td>4.9</td>\n",
       "      <td>3.0</td>\n",
       "      <td>1.4</td>\n",
       "      <td>0.2</td>\n",
       "      <td>Iris-setosa</td>\n",
       "      <td>1</td>\n",
       "    </tr>\n",
       "    <tr>\n",
       "      <th>2</th>\n",
       "      <td>4.7</td>\n",
       "      <td>3.2</td>\n",
       "      <td>1.3</td>\n",
       "      <td>0.2</td>\n",
       "      <td>Iris-setosa</td>\n",
       "      <td>1</td>\n",
       "    </tr>\n",
       "    <tr>\n",
       "      <th>3</th>\n",
       "      <td>4.6</td>\n",
       "      <td>3.1</td>\n",
       "      <td>1.5</td>\n",
       "      <td>0.2</td>\n",
       "      <td>Iris-setosa</td>\n",
       "      <td>0</td>\n",
       "    </tr>\n",
       "    <tr>\n",
       "      <th>4</th>\n",
       "      <td>5.0</td>\n",
       "      <td>3.6</td>\n",
       "      <td>1.4</td>\n",
       "      <td>0.2</td>\n",
       "      <td>Iris-setosa</td>\n",
       "      <td>0</td>\n",
       "    </tr>\n",
       "  </tbody>\n",
       "</table>\n",
       "</div>"
      ],
      "text/plain": [
       "   SepalLengthCm  SepalWidthCm  PetalLengthCm  PetalWidthCm      Species  \\\n",
       "0            5.1           3.5            1.4           0.2  Iris-setosa   \n",
       "1            4.9           3.0            1.4           0.2  Iris-setosa   \n",
       "2            4.7           3.2            1.3           0.2  Iris-setosa   \n",
       "3            4.6           3.1            1.5           0.2  Iris-setosa   \n",
       "4            5.0           3.6            1.4           0.2  Iris-setosa   \n",
       "\n",
       "   group_var  \n",
       "0          0  \n",
       "1          1  \n",
       "2          1  \n",
       "3          0  \n",
       "4          0  "
      ]
     },
     "execution_count": 2,
     "metadata": {},
     "output_type": "execute_result"
    }
   ],
   "source": [
    "df = pd.read_csv(\"./data/iris.csv\")\n",
    "df['group_var'] = np.random.choice(a=[0, 1],  size=len(df),  p=[0.725,0.275])\n",
    "df.head()"
   ]
  },
  {
   "cell_type": "markdown",
   "metadata": {},
   "source": [
    "# Define global variables"
   ]
  },
  {
   "cell_type": "code",
   "execution_count": 3,
   "metadata": {},
   "outputs": [],
   "source": [
    "treatment_control_flag = 'group_var'\n",
    "var_name = 'Species'\n",
    "control_label = 0\n",
    "treatment_label = 1"
   ]
  },
  {
   "cell_type": "markdown",
   "metadata": {},
   "source": [
    "# Calculate ColPercent (as in SAS macro)"
   ]
  },
  {
   "cell_type": "code",
   "execution_count": 5,
   "metadata": {},
   "outputs": [
    {
     "data": {
      "text/html": [
       "<div>\n",
       "<style scoped>\n",
       "    .dataframe tbody tr th:only-of-type {\n",
       "        vertical-align: middle;\n",
       "    }\n",
       "\n",
       "    .dataframe tbody tr th {\n",
       "        vertical-align: top;\n",
       "    }\n",
       "\n",
       "    .dataframe thead th {\n",
       "        text-align: right;\n",
       "    }\n",
       "</style>\n",
       "<table border=\"1\" class=\"dataframe\">\n",
       "  <thead>\n",
       "    <tr style=\"text-align: right;\">\n",
       "      <th></th>\n",
       "      <th>control</th>\n",
       "      <th>treatment</th>\n",
       "    </tr>\n",
       "    <tr>\n",
       "      <th>Species</th>\n",
       "      <th></th>\n",
       "      <th></th>\n",
       "    </tr>\n",
       "  </thead>\n",
       "  <tbody>\n",
       "    <tr>\n",
       "      <th>Iris-setosa</th>\n",
       "      <td>0.366972</td>\n",
       "      <td>0.243902</td>\n",
       "    </tr>\n",
       "    <tr>\n",
       "      <th>Iris-versicolor</th>\n",
       "      <td>0.302752</td>\n",
       "      <td>0.414634</td>\n",
       "    </tr>\n",
       "    <tr>\n",
       "      <th>Iris-virginica</th>\n",
       "      <td>0.330275</td>\n",
       "      <td>0.341463</td>\n",
       "    </tr>\n",
       "  </tbody>\n",
       "</table>\n",
       "</div>"
      ],
      "text/plain": [
       "                  control  treatment\n",
       "Species                             \n",
       "Iris-setosa      0.366972   0.243902\n",
       "Iris-versicolor  0.302752   0.414634\n",
       "Iris-virginica   0.330275   0.341463"
      ]
     },
     "execution_count": 5,
     "metadata": {},
     "output_type": "execute_result"
    }
   ],
   "source": [
    "# For the favoured class\n",
    "control = df.loc[df[treatment_control_flag] == control_label, [treatment_control_flag, var_name]].rename(columns = {treatment_control_flag: 'control'})\n",
    "n_control = len(control)\n",
    "control = control.groupby(control[var_name]).count()/len(control)\n",
    "# For the deprived class\n",
    "treatment = df.loc[df[treatment_control_flag] == treatment_label, [treatment_control_flag, var_name]].rename(columns = {treatment_control_flag: 'treatment'})\n",
    "n_treatment = len(treatment)\n",
    "treatment = treatment.groupby(treatment[var_name]).count()/len(treatment)\n",
    "# Merge both results in a single table as suggested by  Dongsheng, Y. and Dalton, E (2012)\n",
    "ColPercent = pd.merge(control, treatment, on = var_name)\n",
    "ColPercent "
   ]
  },
  {
   "cell_type": "markdown",
   "metadata": {},
   "source": [
    "# Calculate COV matrix S"
   ]
  },
  {
   "cell_type": "code",
   "execution_count": 7,
   "metadata": {},
   "outputs": [
    {
     "data": {
      "text/plain": [
       "matrix([[6.29994898, 2.9463052 ],\n",
       "        [2.9463052 , 5.78507177]])"
      ]
     },
     "execution_count": 7,
     "metadata": {},
     "output_type": "execute_result"
    }
   ],
   "source": [
    "# Get the number of K for the construction of the COV matrix. K = num of classes\n",
    "k = len(np.unique(df[var_name]))\n",
    "m = k - 1\n",
    "ColPercent = ColPercent.iloc[:m]\n",
    "# Clear indexes \n",
    "temp = ColPercent.reset_index(drop=True)\n",
    "\n",
    "# Calculate a (m − 1) × (m − 1) covariance matrix S\n",
    "s = []\n",
    "for i in range(m):\n",
    "    a = []\n",
    "    for j in range(m):\n",
    "        if i == j:\n",
    "            val =  0.5 * (temp['treatment'][i] * (1 - temp['treatment'][i]) + temp['control'][i] * (1 - temp['control'][i]))                  \n",
    "        else:\n",
    "            val = -0.5 * (temp['treatment'][i] * temp['treatment'][j] + temp['control'][i] * temp['control'][j])   \n",
    "        a.append(val)\n",
    "    s.append(a)\n",
    "\n",
    "S = np.linalg.inv(np.array(s))\n",
    "S = np.matrix(S)\n",
    "# Inverted matrix\n",
    "S"
   ]
  },
  {
   "cell_type": "markdown",
   "metadata": {},
   "source": [
    "# Get standardised difference"
   ]
  },
  {
   "cell_type": "code",
   "execution_count": 8,
   "metadata": {},
   "outputs": [
    {
     "data": {
      "text/plain": [
       "0.2944457152353158"
      ]
     },
     "execution_count": 8,
     "metadata": {},
     "output_type": "execute_result"
    }
   ],
   "source": [
    "# Get treatment and control vectors\n",
    "c = np.matrix(ColPercent['control'])\n",
    "t = np.matrix(ColPercent['treatment'])\n",
    "# calculate the mahalanobis distance by defining the vectors for the control and treatment groups\n",
    "# Calculate the standardised difference \n",
    "d = float(np.sqrt((t-c) * S * ((t-c).T)))\n",
    "\n",
    "d"
   ]
  },
  {
   "cell_type": "code",
   "execution_count": 9,
   "metadata": {},
   "outputs": [
    {
     "name": "stdout",
     "output_type": "stream",
     "text": [
      "<class 'pandas.core.frame.DataFrame'>\n",
      "RangeIndex: 150 entries, 0 to 149\n",
      "Data columns (total 6 columns):\n",
      " #   Column         Non-Null Count  Dtype  \n",
      "---  ------         --------------  -----  \n",
      " 0   SepalLengthCm  150 non-null    float64\n",
      " 1   SepalWidthCm   150 non-null    float64\n",
      " 2   PetalLengthCm  150 non-null    float64\n",
      " 3   PetalWidthCm   150 non-null    float64\n",
      " 4   Species        150 non-null    object \n",
      " 5   group_var      150 non-null    int32  \n",
      "dtypes: float64(4), int32(1), object(1)\n",
      "memory usage: 6.6+ KB\n"
     ]
    }
   ],
   "source": [
    "# Check correct data types\n",
    "df.info()"
   ]
  },
  {
   "cell_type": "code",
   "execution_count": 10,
   "metadata": {},
   "outputs": [],
   "source": [
    "var_names = ['SepalLengthCm', 'SepalWidthCm', 'PetalLengthCm', 'PetalWidthCm', 'Species']"
   ]
  },
  {
   "cell_type": "code",
   "execution_count": 11,
   "metadata": {},
   "outputs": [
    {
     "name": "stdout",
     "output_type": "stream",
     "text": [
      "SepalLengthCm\n",
      "{'standardised_difference': 0.20355772084962398, 'CI': (-0.15626473010179348, 0.5633801718010414), 'p_value': 0.27077564354509354}\n",
      "______________________________\n",
      "SepalWidthCm\n",
      "{'standardised_difference': -0.3124534518084735, 'CI': (-0.6732743852273145, 0.048367481610367524), 'p_value': 1.0187376176225913}\n",
      "______________________________\n",
      "PetalLengthCm\n",
      "{'standardised_difference': 0.22819144144811845, 'CI': (-0.13182020900392002, 0.588203091900157), 'p_value': 0.21592853716551272}\n",
      "______________________________\n",
      "PetalWidthCm\n",
      "{'standardised_difference': 0.1634232057200189, 'CI': (-0.19613706955564003, 0.5229834809956778), 'p_value': 0.37951417124754283}\n",
      "______________________________\n",
      "Species\n",
      "{'standardised_difference': 0.2944457152353158, 'CI': (-0.06618123611150406, 0.6550726665821357), 'p_value': 0.109395282179496}\n",
      "______________________________\n"
     ]
    }
   ],
   "source": [
    "for col in df[var_names]:\n",
    "    print(col)\n",
    "    print(standardised_difference_function(df, treatment_control_flag, col, control_label, treatment_label))\n",
    "    print(\"___\"*10)"
   ]
  },
  {
   "cell_type": "code",
   "execution_count": null,
   "metadata": {},
   "outputs": [],
   "source": []
  }
 ],
 "metadata": {
  "kernelspec": {
   "display_name": "Python 3.7.13 ('model_fairness')",
   "language": "python",
   "name": "python3"
  },
  "language_info": {
   "codemirror_mode": {
    "name": "ipython",
    "version": 3
   },
   "file_extension": ".py",
   "mimetype": "text/x-python",
   "name": "python",
   "nbconvert_exporter": "python",
   "pygments_lexer": "ipython3",
   "version": "3.7.13"
  },
  "orig_nbformat": 4,
  "vscode": {
   "interpreter": {
    "hash": "ee62c2fdb76883335d74924cfe7f75400f2c905472c571420d6f37fdc27b8212"
   }
  }
 },
 "nbformat": 4,
 "nbformat_minor": 2
}
